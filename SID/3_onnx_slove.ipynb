{
 "cells": [
  {
   "cell_type": "code",
   "execution_count": 1,
   "metadata": {},
   "outputs": [],
   "source": [
    "import onnx"
   ]
  },
  {
   "cell_type": "code",
   "execution_count": 2,
   "metadata": {},
   "outputs": [],
   "source": [
    "model = onnx.load('onnx/model.onnx')\n",
    "onnx.checker.check_model(model)"
   ]
  },
  {
   "cell_type": "code",
   "execution_count": 4,
   "metadata": {},
   "outputs": [],
   "source": [
    "# 造一个新的输出\n",
    "model1_output_tensor_type = model.graph.output[0].type.tensor_type\n",
    "output_elem_type = model1_output_tensor_type.elem_type\n",
    "make_output = onnx.helper.make_tensor_value_info(\n",
    "                                'out_rgb',\n",
    "                                output_elem_type,\n",
    "                                [1,3,1024,1024]\n",
    "                            )\n",
    "# 删掉旧的输出，把新的输出加进去\n",
    "model.graph.output.pop()\n",
    "model.graph.output.append(make_output)"
   ]
  },
  {
   "cell_type": "code",
   "execution_count": 6,
   "metadata": {},
   "outputs": [],
   "source": [
    "# 造一个新的输入\n",
    "model1_input_tensor_type = model.graph.input[0].type.tensor_type\n",
    "input_elem_type = model1_input_tensor_type.elem_type\n",
    "make_input = onnx.helper.make_tensor_value_info(\n",
    "                                'in_raw',\n",
    "                                input_elem_type,\n",
    "                                [1,4,512,512]\n",
    "                            )\n",
    "# 删掉旧的输入，把新的输入加进去\n",
    "model.graph.input.pop()\n",
    "model.graph.input.append(make_input)"
   ]
  },
  {
   "cell_type": "code",
   "execution_count": 19,
   "metadata": {},
   "outputs": [
    {
     "data": {
      "text/plain": [
       "input: \"DepthToSpace:0\"\n",
       "output: \"out_rgb:0\"\n",
       "name: \"DepthToSpace__61\"\n",
       "op_type: \"Transpose\"\n",
       "attribute {\n",
       "  name: \"perm\"\n",
       "  ints: 0\n",
       "  ints: 2\n",
       "  ints: 3\n",
       "  ints: 1\n",
       "  type: INTS\n",
       "}"
      ]
     },
     "execution_count": 19,
     "metadata": {},
     "output_type": "execute_result"
    }
   ],
   "source": [
    "# 将到数第二层的输出接到输出，再扔掉最后一层的permute\n",
    "model.graph.node[-2].output[0] = 'out_rgb'\n",
    "model.graph.node.pop()"
   ]
  },
  {
   "cell_type": "code",
   "execution_count": 29,
   "metadata": {},
   "outputs": [],
   "source": [
    "# 将第二个节点的输入接到输入，reverse之后把最后一个删了再reverse回来\n",
    "model.graph.node[1].input[0] = 'in_raw'\n",
    "model.graph.node.reverse()\n",
    "model.graph.node.pop()\n",
    "model.graph.node.reverse()"
   ]
  },
  {
   "cell_type": "code",
   "execution_count": null,
   "metadata": {},
   "outputs": [],
   "source": []
  },
  {
   "cell_type": "code",
   "execution_count": 49,
   "metadata": {},
   "outputs": [],
   "source": [
    "onnx.save(model, 'onnx/slove.onnx')"
   ]
  },
  {
   "cell_type": "code",
   "execution_count": null,
   "metadata": {},
   "outputs": [],
   "source": []
  }
 ],
 "metadata": {
  "kernelspec": {
   "display_name": "Python 3",
   "language": "python",
   "name": "python3"
  },
  "language_info": {
   "codemirror_mode": {
    "name": "ipython",
    "version": 3
   },
   "file_extension": ".py",
   "mimetype": "text/x-python",
   "name": "python",
   "nbconvert_exporter": "python",
   "pygments_lexer": "ipython3",
   "version": "3.7.4"
  }
 },
 "nbformat": 4,
 "nbformat_minor": 4
}
